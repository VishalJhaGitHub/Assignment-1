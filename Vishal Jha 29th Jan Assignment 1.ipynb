{
 "cells": [
  {
   "cell_type": "code",
   "execution_count": 1,
   "id": "7fb1efb4-24f5-480d-abb9-45fdb66f8b21",
   "metadata": {},
   "outputs": [],
   "source": [
    "#1. Who developed python programming language ?"
   ]
  },
  {
   "cell_type": "code",
   "execution_count": 2,
   "id": "9b452c64-5e9f-47ac-8ee3-e0f76d9e79af",
   "metadata": {},
   "outputs": [],
   "source": [
    "#Ans -  Guido van Rossum developed python programming language."
   ]
  },
  {
   "cell_type": "code",
   "execution_count": 3,
   "id": "8bd52c04-615d-43fe-a91d-c06e353849e6",
   "metadata": {},
   "outputs": [],
   "source": [
    "#2. Which type of programming does python support ?"
   ]
  },
  {
   "cell_type": "code",
   "execution_count": 4,
   "id": "25e4e053-e155-41f4-a644-5ae8abfbae8c",
   "metadata": {},
   "outputs": [],
   "source": [
    "#Ans - Object-oriented, structured, and functional programming."
   ]
  },
  {
   "cell_type": "code",
   "execution_count": 5,
   "id": "4e4c7ddd-a5c5-4947-81ec-7065d0bd3e97",
   "metadata": {},
   "outputs": [],
   "source": [
    "#3. Is python case sensitive when dealing with identifiers ?"
   ]
  },
  {
   "cell_type": "code",
   "execution_count": 6,
   "id": "deb5b014-3d17-46dc-9d61-da99757a30bd",
   "metadata": {},
   "outputs": [],
   "source": [
    "#Ans - Yes, Python is a case-sensitive language."
   ]
  },
  {
   "cell_type": "code",
   "execution_count": 7,
   "id": "7a466c37-67f3-459a-ae17-e82dcb532a89",
   "metadata": {},
   "outputs": [],
   "source": [
    "#4. What is the correct extension of the python file ?"
   ]
  },
  {
   "cell_type": "code",
   "execution_count": 8,
   "id": "e257ac79-0c4f-45e8-9a37-53f22e653047",
   "metadata": {},
   "outputs": [],
   "source": [
    "#Ans - .py is the correct extension of the python file."
   ]
  },
  {
   "cell_type": "code",
   "execution_count": 9,
   "id": "2d91d095-c1af-419f-bf68-4d87f7df32b0",
   "metadata": {},
   "outputs": [],
   "source": [
    "#5. Is python code compiled or interpreted ?"
   ]
  },
  {
   "cell_type": "code",
   "execution_count": 10,
   "id": "bffb39dd-1e40-41a6-8cad-1634b7d3ad60",
   "metadata": {},
   "outputs": [],
   "source": [
    "#Ans - Python code is interpreted."
   ]
  },
  {
   "cell_type": "code",
   "execution_count": 11,
   "id": "d2080705-59c9-44af-bc94-536e32ea7b57",
   "metadata": {},
   "outputs": [],
   "source": [
    "#6. Name a few blocks of code used to define in python language ?"
   ]
  },
  {
   "cell_type": "code",
   "execution_count": 12,
   "id": "294e2ba1-018e-40cb-96a9-1855e9d4c209",
   "metadata": {},
   "outputs": [],
   "source": [
    "#Ans - a module, a function body, and a class definition."
   ]
  },
  {
   "cell_type": "code",
   "execution_count": 13,
   "id": "9940b95f-c1d3-4f86-b43a-0c2f508daccc",
   "metadata": {},
   "outputs": [],
   "source": [
    "#7. State a character used to give single-line comments in python ?"
   ]
  },
  {
   "cell_type": "code",
   "execution_count": 14,
   "id": "1a286468-7531-498c-84be-4f4977cb29b5",
   "metadata": {},
   "outputs": [],
   "source": [
    "#Ans - We can write single-line comments by adding a single character before any statement or line of code."
   ]
  },
  {
   "cell_type": "code",
   "execution_count": 15,
   "id": "c270925e-5deb-4e9c-82f8-147ec4741514",
   "metadata": {},
   "outputs": [],
   "source": [
    "#8. Mention functions which can help us to find the version of python thats we are currently working on ?"
   ]
  },
  {
   "cell_type": "code",
   "execution_count": 16,
   "id": "8b2f238c-b884-4dd3-b196-8cdfb6cbfc53",
   "metadata": {},
   "outputs": [],
   "source": [
    "#Ans - sys. version."
   ]
  },
  {
   "cell_type": "code",
   "execution_count": 17,
   "id": "f50107e5-302e-4eb7-8dac-457195f1b37f",
   "metadata": {},
   "outputs": [],
   "source": [
    "#9. Python support the creation of anonymous functions at runtime, using a construct called _________"
   ]
  },
  {
   "cell_type": "code",
   "execution_count": 18,
   "id": "840755e3-2dad-4f47-82ce-3a077db5137f",
   "metadata": {},
   "outputs": [],
   "source": [
    "#Ans - lambda."
   ]
  },
  {
   "cell_type": "code",
   "execution_count": 19,
   "id": "8723a73c-6ec7-4ab9-bf67-f26fbc3dae6f",
   "metadata": {},
   "outputs": [],
   "source": [
    "#10. What does pip stand for python ?"
   ]
  },
  {
   "cell_type": "code",
   "execution_count": 20,
   "id": "291328e1-9b32-4ed1-9902-72a7276fcceb",
   "metadata": {},
   "outputs": [],
   "source": [
    "#Ans - Preferred installer program."
   ]
  },
  {
   "cell_type": "code",
   "execution_count": 21,
   "id": "f12d1856-8a9e-43aa-b6e6-9094188d3c4c",
   "metadata": {},
   "outputs": [],
   "source": [
    "#11. Mention a few built-in functions in python ?"
   ]
  },
  {
   "cell_type": "code",
   "execution_count": 22,
   "id": "25b90048-5fc9-49bf-8b3f-c5b43bfd3a13",
   "metadata": {},
   "outputs": [],
   "source": [
    "#Ans - print( ) function, type( ) function, input( ) function, sorted( ) function, len( ) function."
   ]
  },
  {
   "cell_type": "code",
   "execution_count": 23,
   "id": "f1ad74e2-fa49-4ce6-81cf-0e5744a50ab9",
   "metadata": {},
   "outputs": [],
   "source": [
    "#12. What is the maximum possible length of an identifier in python ?"
   ]
  },
  {
   "cell_type": "code",
   "execution_count": 24,
   "id": "d321f731-22d1-42c1-be87-2c739808f2f8",
   "metadata": {},
   "outputs": [],
   "source": [
    "#Ans - 79 characters."
   ]
  },
  {
   "cell_type": "code",
   "execution_count": 25,
   "id": "0c920732-7d71-4cfb-bc07-639285b478e0",
   "metadata": {},
   "outputs": [],
   "source": [
    "#13. What are the benefits of using python ?"
   ]
  },
  {
   "cell_type": "code",
   "execution_count": 26,
   "id": "1dee4e9c-73fb-49cc-9fb8-02b3c1f472c6",
   "metadata": {},
   "outputs": [],
   "source": [
    "#Ans - Third-Party Modules, Open Source and free, Huge Support Community, Easy to learn, User-Friendly data structures and Speed."
   ]
  },
  {
   "cell_type": "code",
   "execution_count": 27,
   "id": "d1627244-e669-4e05-b778-9f9166489c63",
   "metadata": {},
   "outputs": [],
   "source": [
    "#14. How is memory managed in python ?"
   ]
  },
  {
   "cell_type": "code",
   "execution_count": 28,
   "id": "189f6e97-ca54-4fb3-9f16-df6be47a7d97",
   "metadata": {},
   "outputs": [],
   "source": [
    "#Ans - Memory management in python involves a private heap containing all python objects and data structures. Python uses a portion of the memory for internal use and non-object memory."
   ]
  },
  {
   "cell_type": "code",
   "execution_count": 29,
   "id": "154c2d31-6b13-4f18-b151-de9cd33fe98d",
   "metadata": {},
   "outputs": [],
   "source": [
    "#15. How to install python on windows and set path variables ?"
   ]
  },
  {
   "cell_type": "code",
   "execution_count": 30,
   "id": "05b4210b-c550-404b-842e-9cb83548df76",
   "metadata": {},
   "outputs": [],
   "source": [
    "#Ans - Open a browser to the python website and download the windows installer. Double click on the downloaded file and install python for all users, and ensure that python is added to your path. Click on install now to begin."
   ]
  },
  {
   "cell_type": "code",
   "execution_count": 31,
   "id": "5baa50b3-792f-4fa7-8098-5c24cc9dd9cd",
   "metadata": {},
   "outputs": [],
   "source": [
    "#16. Is indentation is required in python ?"
   ]
  },
  {
   "cell_type": "code",
   "execution_count": 32,
   "id": "164fc590-ed09-4dcd-8232-58b1a4f59d11",
   "metadata": {},
   "outputs": [],
   "source": [
    "#Ans - Yes, Indentation required in python."
   ]
  }
 ],
 "metadata": {
  "kernelspec": {
   "display_name": "Python 3 (ipykernel)",
   "language": "python",
   "name": "python3"
  },
  "language_info": {
   "codemirror_mode": {
    "name": "ipython",
    "version": 3
   },
   "file_extension": ".py",
   "mimetype": "text/x-python",
   "name": "python",
   "nbconvert_exporter": "python",
   "pygments_lexer": "ipython3",
   "version": "3.10.8"
  }
 },
 "nbformat": 4,
 "nbformat_minor": 5
}
